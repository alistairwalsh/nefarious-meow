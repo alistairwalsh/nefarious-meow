{
 "cells": [
  {
   "cell_type": "markdown",
   "metadata": {},
   "source": [
    "## Random Forest classifier example"
   ]
  },
  {
   "cell_type": "code",
   "execution_count": 156,
   "metadata": {
    "collapsed": false
   },
   "outputs": [],
   "source": [
    "from sklearn.ensemble import RandomForestClassifier"
   ]
  },
  {
   "cell_type": "markdown",
   "metadata": {},
   "source": [
    "#Watch the video of the type of activity that was recorded "
   ]
  },
  {
   "cell_type": "code",
   "execution_count": 157,
   "metadata": {
    "collapsed": false
   },
   "outputs": [
    {
     "data": {
      "text/html": [
       "\n",
       "        <iframe\n",
       "            width=\"400\"\n",
       "            height=\"300\"\n",
       "            src=\"https://www.youtube.com/embed/XOEN9W05_4A\"\n",
       "            frameborder=\"0\"\n",
       "            allowfullscreen\n",
       "        ></iframe>\n",
       "        "
      ],
      "text/plain": [
       "<IPython.lib.display.YouTubeVideo at 0x11eadeac8>"
      ]
     },
     "execution_count": 157,
     "metadata": {},
     "output_type": "execute_result"
    }
   ],
   "source": [
    "from IPython.display import YouTubeVideo, HTML\n",
    "YouTubeVideo(\"XOEN9W05_4A\")"
   ]
  },
  {
   "cell_type": "code",
   "execution_count": 158,
   "metadata": {
    "collapsed": true
   },
   "outputs": [],
   "source": [
    "#The Donald Bren School of Information and Computer Sciences - University of California, Irvine\n",
    "\n",
    "info_file = 'http://archive.ics.uci.edu/ml/machine-learning-databases/00240/UCI%20HAR%20Dataset.names'\n",
    "data_zip = 'http://archive.ics.uci.edu/ml/machine-learning-databases/00240/UCI%20HAR%20Dataset.zip'"
   ]
  },
  {
   "cell_type": "code",
   "execution_count": 159,
   "metadata": {
    "collapsed": false
   },
   "outputs": [
    {
     "name": "stdout",
     "output_type": "stream",
     "text": [
      "===================================================================================================\n",
      "Human Activity Recognition Using Smartphones Dataset\n",
      "Version 1.0\n",
      "===================================================================================================\n",
      "Jorge L. Reyes-Ortiz(1,2), Davide Anguita(1), Alessandro Ghio(1), Luca Oneto(1) and Xavier Parra(2)\n",
      "1 - Smartlab - Non-Linear Complex Systems Laboratory\n",
      "DITEN - Universit�  degli Studi di Genova, Genoa (I-16145), Italy. \n",
      "2 - CETpD - Technical Research Centre for Dependency Care and Autonomous Living\n",
      "Universitat Polit�cnica de Catalunya (BarcelonaTech). Vilanova i la Geltr� (08800), Spain\n",
      "activityrecognition '@' smartlab.ws \n",
      "===================================================================================================\n",
      "\n",
      "The experiments have been carried out with a group of 30 volunteers within an age bracket of 19-48 years. Each person performed six activities (WALKING, WALKING_UPSTAIRS, WALKING_DOWNSTAIRS, SITTING, STANDING, LAYING) wearing a smartphone (Samsung Galaxy S II) on the waist. Using its embedded accelerometer and gyroscope, we captured 3-axial linear acceleration and 3-axial angular velocity at a constant rate of 50Hz. The experiments have been video-recorded to label the data manually. The obtained dataset has been randomly partitioned into two sets, where 70% of the volunteers was selected for generating the training data and 30% the test data. \n",
      "\n",
      "The sensor signals (accelerometer and gyroscope) were pre-processed by applying noise filters and then sampled in fixed-width sliding windows of 2.56 sec and 50% overlap (128 readings/window). The sensor acceleration signal, which has gravitational and body motion components, was separated using a Butterworth low-pass filter into body acceleration and gravity. The gravitational force is assumed to have only low frequency components, therefore a filter with 0.3 Hz cutoff frequency was used. From each window, a vector of features was obtained by calculating variables from the time and frequency domain. See 'features_info.txt' for more details. \n",
      "\n",
      "For each record it is provided:\n",
      "======================================\n",
      "\n",
      "- Triaxial acceleration from the accelerometer (total acceleration) and the estimated body acceleration.\n",
      "- Triaxial Angular velocity from the gyroscope. \n",
      "- A 561-feature vector with time and frequency domain variables. \n",
      "- Its activity label. \n",
      "- An identifier of the subject who carried out the experiment.\n",
      "\n",
      "The dataset includes the following files:\n",
      "=========================================\n",
      "\n",
      "- 'README.txt'\n",
      "\n",
      "- 'features_info.txt': Shows information about the variables used on the feature vector.\n",
      "\n",
      "- 'features.txt': List of all features.\n",
      "\n",
      "- 'activity_labels.txt': Links the class labels with their activity name.\n",
      "\n",
      "- 'train/X_train.txt': Training set.\n",
      "\n",
      "- 'train/y_train.txt': Training labels.\n",
      "\n",
      "- 'test/X_test.txt': Test set.\n",
      "\n",
      "- 'test/y_test.txt': Test labels.\n",
      "\n",
      "The following files are available for the train and test data. Their descriptions are equivalent. \n",
      "\n",
      "- 'train/subject_train.txt': Each row identifies the subject who performed the activity for each window sample. Its range is from 1 to 30. \n",
      "\n",
      "- 'train/Inertial Signals/total_acc_x_train.txt': The acceleration signal from the smartphone accelerometer X axis in standard gravity units 'g'. Every row shows a 128 element vector. The same description applies for the 'total_acc_x_train.txt' and 'total_acc_z_train.txt' files for the Y and Z axis. \n",
      "\n",
      "- 'train/Inertial Signals/body_acc_x_train.txt': The body acceleration signal obtained by subtracting the gravity from the total acceleration. \n",
      "\n",
      "- 'train/Inertial Signals/body_gyro_x_train.txt': The angular velocity vector measured by the gyroscope for each window sample. The units are radians/second. \n",
      "\n",
      "Notes: \n",
      "======\n",
      "- Features are normalized and bounded within [-1,1].\n",
      "- Each feature vector is a row on the text file.\n",
      "- The units used for the accelerations (total and body) are 'g's (gravity of earth -> 9.80665 m/seg2).\n",
      "- The gyroscope units are rad/seg.\n",
      "- A video of the experiment including an example of the 6 recorded activities with one of the participants can be seen in the following link: http://www.youtube.com/watch?v=XOEN9W05_4A\n",
      "\n",
      "For more information about this dataset please contact: activityrecognition '@' smartlab.ws\n",
      "\n",
      "License:\n",
      "========\n",
      "Use of this dataset in publications must be acknowledged by referencing the following publication [1] \n",
      "\n",
      "[1] Davide Anguita, Alessandro Ghio, Luca Oneto, Xavier Parra and Jorge L. Reyes-Ortiz. A Public Domain Dataset for Human Activity Recognition Using Smartphones. 21th European Symposium on Artificial Neural Networks, Computational Intelligence and Machine Learning, ESANN 2013. Bruges, Belgium 24-26 April 2013. \n",
      "\n",
      "This dataset is distributed AS-IS and no responsibility implied or explicit can be addressed to the authors or their institutions for its use or misuse. Any commercial use is prohibited.\n",
      "\n",
      "Other Related Publications:\n",
      "===========================\n",
      "[2] Davide Anguita, Alessandro Ghio, Luca Oneto, Xavier Parra, Jorge L. Reyes-Ortiz.  Energy Efficient Smartphone-Based Activity Recognition using Fixed-Point Arithmetic. Journal of Universal Computer Science. Special Issue in Ambient Assisted Living: Home Care.   Volume 19, Issue 9. May 2013\n",
      "\n",
      "[3] Davide Anguita, Alessandro Ghio, Luca Oneto, Xavier Parra and Jorge L. Reyes-Ortiz. Human Activity Recognition on Smartphones using a Multiclass Hardware-Friendly Support Vector Machine. 4th International Workshop of Ambient Assited Living, IWAAL 2012, Vitoria-Gasteiz, Spain, December 3-5, 2012. Proceedings. Lecture Notes in Computer Science 2012, pp 216-223. \n",
      "\n",
      "[4] Jorge Luis Reyes-Ortiz, Alessandro Ghio, Xavier Parra-Llanas, Davide Anguita, Joan Cabestany, Andreu Catal�. Human Activity and Motion Disorder Recognition: Towards Smarter Interactive Cognitive Environments. 21th European Symposium on Artificial Neural Networks, Computational Intelligence and Machine Learning, ESANN 2013. Bruges, Belgium 24-26 April 2013.  \n",
      "\n",
      "==================================================================================================\n",
      "Jorge L. Reyes-Ortiz, Alessandro Ghio, Luca Oneto, Davide Anguita and Xavier Parra. November 2013.\n"
     ]
    }
   ],
   "source": [
    "!curl $info_file"
   ]
  },
  {
   "cell_type": "markdown",
   "metadata": {},
   "source": [
    "###The data is extracted from the .zip file on the UCI website"
   ]
  },
  {
   "cell_type": "code",
   "execution_count": 160,
   "metadata": {
    "collapsed": false
   },
   "outputs": [],
   "source": [
    "import requests, zipfile, io\n",
    "r = requests.get(data_zip)\n",
    "z = zipfile.ZipFile(io.BytesIO(r.content))\n",
    "X_train_df = pd.read_csv(z.open('UCI HAR Dataset/train/X_train.txt'), skipinitialspace=True, sep=' ', header=None)\n",
    "X_train = X_train_df.values\n",
    "y_train_df = pd.read_csv(z.open('UCI HAR Dataset/train/y_train.txt'), header=None)\n",
    "y_train = y_train_df[0].values"
   ]
  },
  {
   "cell_type": "markdown",
   "metadata": {},
   "source": [
    "###The dataset contains readings from mobile phone accelerometer and gyroscope as subjects perform a range of actions. The raw data is then manipulated to form 560 features from the initial 6 features (accelerometer 3-axis and gyroscope 3-axis).\n",
    "\n"
   ]
  },
  {
   "cell_type": "code",
   "execution_count": 161,
   "metadata": {
    "collapsed": false
   },
   "outputs": [
    {
     "data": {
      "text/plain": [
       "(7352, 561)"
      ]
     },
     "execution_count": 161,
     "metadata": {},
     "output_type": "execute_result"
    }
   ],
   "source": [
    "X_train.shape"
   ]
  },
  {
   "cell_type": "code",
   "execution_count": 162,
   "metadata": {
    "collapsed": false
   },
   "outputs": [
    {
     "data": {
      "text/plain": [
       "(7352,)"
      ]
     },
     "execution_count": 162,
     "metadata": {},
     "output_type": "execute_result"
    }
   ],
   "source": [
    "y_train.shape"
   ]
  },
  {
   "cell_type": "markdown",
   "metadata": {},
   "source": [
    "###A training set of 7352 readings (X_train) labeled as one of six activities (y_train) is used to train a random forest classifier."
   ]
  },
  {
   "cell_type": "code",
   "execution_count": 163,
   "metadata": {
    "collapsed": false
   },
   "outputs": [
    {
     "data": {
      "text/plain": [
       "RandomForestClassifier(bootstrap=True, class_weight=None, criterion='gini',\n",
       "            max_depth=None, max_features='auto', max_leaf_nodes=None,\n",
       "            min_samples_leaf=1, min_samples_split=2,\n",
       "            min_weight_fraction_leaf=0.0, n_estimators=150, n_jobs=2,\n",
       "            oob_score=False, random_state=None, verbose=0,\n",
       "            warm_start=False)"
      ]
     },
     "execution_count": 163,
     "metadata": {},
     "output_type": "execute_result"
    }
   ],
   "source": [
    "clf = RandomForestClassifier(n_jobs=2,n_estimators=150)\n",
    "clf.fit(X_train, y_train)"
   ]
  },
  {
   "cell_type": "markdown",
   "metadata": {},
   "source": [
    "### A quick sanity check where the training data is classified by the model - should be 100% accurate or very close"
   ]
  },
  {
   "cell_type": "code",
   "execution_count": 164,
   "metadata": {
    "collapsed": false
   },
   "outputs": [],
   "source": [
    "from sklearn.metrics import accuracy_score, roc_auc_score\n",
    "\n",
    "y_predict = clf.predict(X_train)"
   ]
  },
  {
   "cell_type": "code",
   "execution_count": 165,
   "metadata": {
    "collapsed": false
   },
   "outputs": [
    {
     "name": "stdout",
     "output_type": "stream",
     "text": [
      "------------------------------------------------------------\n",
      "\n",
      "\n",
      "A Random Forest Classifier with 150 estimators was 100.0% accurate on the test data.\n",
      "\n",
      "\n",
      "------------------------------------------------------------\n"
     ]
    }
   ],
   "source": [
    "accuracy = accuracy_score(y_train, y_predict)\n",
    "print('---'*20)\n",
    "print('\\n')\n",
    "print(\"A Random Forest Classifier with 150 estimators was {}% accurate on the test data.\".format(round(accuracy*100,2)))\n",
    "print('\\n')\n",
    "print('---'*20)"
   ]
  },
  {
   "cell_type": "markdown",
   "metadata": {},
   "source": [
    "###A second unseen dataset of 2947 datapoints is used to test the classifier."
   ]
  },
  {
   "cell_type": "code",
   "execution_count": 166,
   "metadata": {
    "collapsed": true
   },
   "outputs": [],
   "source": [
    "X_test_df = pd.read_csv(z.open('UCI HAR Dataset/test/X_test.txt'), skipinitialspace=True, sep=' ', header=None)\n",
    "X_test = X_test_df.values\n",
    "y_test_df = pd.read_csv(z.open('UCI HAR Dataset/test/y_test.txt'), header=None)\n",
    "y_test = y_test_df[0].values"
   ]
  },
  {
   "cell_type": "code",
   "execution_count": 167,
   "metadata": {
    "collapsed": false
   },
   "outputs": [
    {
     "data": {
      "text/plain": [
       "(2947, 561)"
      ]
     },
     "execution_count": 167,
     "metadata": {},
     "output_type": "execute_result"
    }
   ],
   "source": [
    "X_test.shape"
   ]
  },
  {
   "cell_type": "code",
   "execution_count": 168,
   "metadata": {
    "collapsed": false
   },
   "outputs": [
    {
     "data": {
      "text/plain": [
       "(2947,)"
      ]
     },
     "execution_count": 168,
     "metadata": {},
     "output_type": "execute_result"
    }
   ],
   "source": [
    "y_test.shape"
   ]
  },
  {
   "cell_type": "markdown",
   "metadata": {},
   "source": [
    "###Predictions for the unseen dataset are created."
   ]
  },
  {
   "cell_type": "code",
   "execution_count": 169,
   "metadata": {
    "collapsed": true
   },
   "outputs": [],
   "source": [
    "y_predict_test = clf.predict(X_test)"
   ]
  },
  {
   "cell_type": "markdown",
   "metadata": {},
   "source": [
    "###The correct labels are loaded and prediction accuracy is tested"
   ]
  },
  {
   "cell_type": "code",
   "execution_count": 170,
   "metadata": {
    "collapsed": false
   },
   "outputs": [
    {
     "name": "stdout",
     "output_type": "stream",
     "text": [
      "------------------------------------------------------------\n",
      "\n",
      "\n",
      "A random Forest Classifier with 150 estimators, trained on the training data, was 93.01% accurate at labelling the unseen test data.\n",
      "\n",
      "\n",
      "------------------------------------------------------------\n"
     ]
    }
   ],
   "source": [
    "test_score = accuracy_score(y_test, y_predict_test)\n",
    "print('---'*20)\n",
    "print('\\n')\n",
    "print('A random Forest Classifier with 150 estimators, trained on the training data, was {}% accurate at labelling the unseen test data.'.format(round(test_score*100,2)))\n",
    "print('\\n')\n",
    "print('---'*20)\n"
   ]
  },
  {
   "cell_type": "code",
   "execution_count": 171,
   "metadata": {
    "collapsed": false
   },
   "outputs": [
    {
     "data": {
      "text/plain": [
       "[<matplotlib.lines.Line2D at 0x11f4b6ef0>]"
      ]
     },
     "execution_count": 171,
     "metadata": {},
     "output_type": "execute_result"
    },
    {
     "data": {
      "image/png": "[encoded data removed]",
      "text/plain": [
       "<matplotlib.figure.Figure at 0x11e9238d0>"
      ]
     },
     "metadata": {},
     "output_type": "display_data"
    }
   ],
   "source": [
    "import matplotlib as mpl\n",
    "\n",
    "order = clf.feature_importances_\n",
    "order.sort()\n",
    "mpl.pylab.plot(order)  "
   ]
  },
  {
   "cell_type": "code",
   "execution_count": 172,
   "metadata": {
    "collapsed": false
   },
   "outputs": [],
   "source": [
    "importance = pd.DataFrame(clf.feature_importances_)"
   ]
  },
  {
   "cell_type": "code",
   "execution_count": 173,
   "metadata": {
    "collapsed": false
   },
   "outputs": [],
   "source": [
    "feature = pd.read_csv(z.open('UCI HAR Dataset/features.txt'),sep=' ',header=None)"
   ]
  },
  {
   "cell_type": "code",
   "execution_count": 174,
   "metadata": {
    "collapsed": false
   },
   "outputs": [],
   "source": [
    "feature['importance'] = clf.feature_importances_"
   ]
  },
  {
   "cell_type": "code",
   "execution_count": 175,
   "metadata": {
    "collapsed": false
   },
   "outputs": [],
   "source": [
    "feature.columns = [0, 'transform', 'importance']"
   ]
  },
  {
   "cell_type": "markdown",
   "metadata": {},
   "source": [
    "###The features with an importance >.015 are - "
   ]
  },
  {
   "cell_type": "code",
   "execution_count": 178,
   "metadata": {
    "collapsed": false
   },
   "outputs": [
    {
     "name": "stdout",
     "output_type": "stream",
     "text": [
      "tGravityAcc-mean()-X [ 0.03375814]\n",
      "tGravityAcc-mean()-Y [ 0.02971596]\n",
      "tGravityAcc-max()-X [ 0.02051876]\n",
      "tGravityAcc-max()-Y [ 0.01746774]\n",
      "tGravityAcc-min()-X [ 0.03098886]\n",
      "tGravityAcc-min()-Y [ 0.02094589]\n",
      "tGravityAcc-energy()-X [ 0.04043527]\n",
      "tGravityAcc-energy()-Y [ 0.01599929]\n",
      "angle(X,gravityMean) [ 0.0250903]\n",
      "angle(Y,gravityMean) [ 0.02249183]\n"
     ]
    }
   ],
   "source": [
    "for feat in feature.transform[feature.importance>.015].values:\n",
    "    print(feat,feature.importance[feature.transform==feat].values)"
   ]
  },
  {
   "cell_type": "code",
   "execution_count": 259,
   "metadata": {
    "collapsed": false
   },
   "outputs": [
    {
     "data": {
      "text/plain": [
       "['walking',\n",
       " 'walking_upstairs',\n",
       " 'walking_downstairs',\n",
       " 'sitting',\n",
       " 'standing',\n",
       " 'laying']"
      ]
     },
     "execution_count": 259,
     "metadata": {},
     "output_type": "execute_result"
    }
   ],
   "source": [
    " labels_activity = [x.lower() for x in activity_labels[1].tolist()]\n",
    "labels_activity"
   ]
  },
  {
   "cell_type": "code",
   "execution_count": 260,
   "metadata": {
    "collapsed": false
   },
   "outputs": [
    {
     "name": "stdout",
     "output_type": "stream",
     "text": [
      "Acurracy for each category in test set \n",
      " ----------------------------------------\n",
      "walking - 93.53%\n",
      "walking_upstairs - 91.2%\n",
      "walking_downstairs - 90.2%\n",
      "sitting - 90.55%\n",
      "standing - 91.42%\n",
      "laying - 100.0%\n"
     ]
    }
   ],
   "source": [
    "from sklearn import metrics\n",
    "# testing score\n",
    "score_test = metrics.f1_score(y_test, y_predict_test, pos_label=list(set(y_test)),average = None)\n",
    "# training score\n",
    "score_train = metrics.f1_score(y_train, y_predict, pos_label=list(set(y_train)),average = None)\n",
    "\n",
    "print('metrics.f1_score for each category in test set','\\n','----'*10)\n",
    "for act,dec in zip(labels_activity,score_test):\n",
    "    print('{} - {}%'.format(act,round(dec*100,2)))"
   ]
  },
  {
   "cell_type": "markdown",
   "metadata": {},
   "source": [
    "Activity labels"
   ]
  },
  {
   "cell_type": "code",
   "execution_count": 179,
   "metadata": {
    "collapsed": false
   },
   "outputs": [],
   "source": [
    "activity_labels = pd.read_csv(z.open('UCI HAR Dataset/activity_labels.txt'),index_col=0,sep=' ',header = None)"
   ]
  },
  {
   "cell_type": "code",
   "execution_count": 235,
   "metadata": {
    "collapsed": false
   },
   "outputs": [
    {
     "data": {
      "image/png": "[encoded data removed]",
      "text/plain": [
       "<matplotlib.figure.Figure at 0x10a94fac8>"
      ]
     },
     "metadata": {},
     "output_type": "display_data"
    }
   ],
   "source": [
    "from sklearn import svm, datasets\n",
    "from sklearn.cross_validation import train_test_split\n",
    "from sklearn.metrics import confusion_matrix\n",
    "\n",
    "import matplotlib.pyplot as plt\n",
    "%matplotlib inline\n",
    "plt.rcParams['figure.figsize'] = (14.0, 10.0)\n",
    "\n",
    "# Run classifier\n",
    "classifier = svm.SVC(kernel='linear')\n",
    "y_predictSVC = classifier.fit(X_train, y_train).predict(X_test)\n",
    "\n",
    "y_values = [0,1,2,3,4,5]\n",
    "activity = labels_activity\n",
    "\n",
    "# Compute confusion matrix\n",
    "conf_arr = confusion_matrix(y_test, y_predictSVC)\n",
    "\n",
    "\n",
    "norm_conf = []\n",
    "for i in conf_arr:\n",
    "    a = 0\n",
    "    tmp_arr = []\n",
    "    a = sum(i, 0)\n",
    "    for j in i:\n",
    "        tmp_arr.append(float(j)/float(a))\n",
    "    norm_conf.append(tmp_arr)\n",
    "\n",
    "\n",
    "width = len(conf_arr)\n",
    "height = len(conf_arr[0])\n",
    "\n",
    "for x in range(width):\n",
    "    for y in range(height):\n",
    "        ax.annotate(str(conf_arr[x][y]), xy=(y, x), \n",
    "                    horizontalalignment='center',\n",
    "                    verticalalignment='center')\n",
    "\n",
    "\n",
    "\n",
    "# Show confusion matrix in a separate window\n",
    "cb = fig.colorbar(res)\n",
    "plt.matshow(conf_arr,cmap=plt.cm.winter)\n",
    "plt.title('Confusion matrix for SVM',y=1.5)\n",
    "plt.colorbar(cmap=plt.cm.YlGn)\n",
    "plt.ylabel('True label')\n",
    "plt.xlabel('Predicted label')\n",
    "\n",
    "plt.yticks(y_values, activity)\n",
    "plt.xticks(y_values, activity,rotation = 90,)\n",
    "plt.grid(b = False, which='major', axis='both')\n",
    "\n",
    "width = len(conf_arr)\n",
    "height = len(conf_arr[0])\n",
    "\n",
    "for x in range(width):\n",
    "    for y in range(height):\n",
    "        plt.annotate(str(conf_arr[x][y]), xy=(y, x), \n",
    "                    horizontalalignment='center',\n",
    "                    verticalalignment='center')\n",
    "#plt.show()"
   ]
  },
  {
   "cell_type": "markdown",
   "metadata": {},
   "source": [
    "### The confusion matrix from the SVC in sklearn (Python) was very close to the result obtained by the original authors. (see paper https://www.elen.ucl.ac.be/Proceedings/esann/esannpdf/es2013-84.pdf)"
   ]
  },
  {
   "cell_type": "code",
   "execution_count": 242,
   "metadata": {
    "collapsed": false
   },
   "outputs": [
    {
     "name": "stdout",
     "output_type": "stream",
     "text": [
      "------------------------------------------------------------\n",
      "\n",
      "\n",
      "A SVC was 96.4% accurate on the test data.\n",
      "\n",
      "\n",
      "------------------------------------------------------------\n"
     ]
    }
   ],
   "source": [
    "accuracy = accuracy_score(y_test, y_predictSVC)\n",
    "print('---'*20)\n",
    "print('\\n')\n",
    "print(\"A SVC was {}% accurate on the test data.\".format(round(accuracy*100,2)))\n",
    "print('\\n')\n",
    "print('---'*20)"
   ]
  },
  {
   "cell_type": "code",
   "execution_count": 236,
   "metadata": {
    "collapsed": false
   },
   "outputs": [
    {
     "data": {
      "image/png": "[encoded data removed]",
      "text/plain": [
       "<matplotlib.figure.Figure at 0x10abd0860>"
      ]
     },
     "metadata": {},
     "output_type": "display_data"
    }
   ],
   "source": [
    "from sklearn.ensemble import RandomForestClassifier\n",
    "#from sklearn.cross_validation import train_test_split\n",
    "from sklearn.metrics import confusion_matrix\n",
    "\n",
    "import matplotlib.pyplot as plt\n",
    "%matplotlib inline\n",
    "plt.rcParams['figure.figsize'] = (14.0, 10.0)\n",
    "\n",
    "# Run classifier\n",
    "#classifier = svm.SVC(kernel='linear')\n",
    "#y_predictSVC = classifier.fit(X_train, y_train).predict(X_test)\n",
    "\n",
    "y_values = [0,1,2,3,4,5]\n",
    "activity = labels_activity\n",
    "\n",
    "# Compute confusion matrix\n",
    "conf_arr = confusion_matrix(y_test, y_predict_test)\n",
    "\n",
    "\n",
    "norm_conf = []\n",
    "for i in conf_arr:\n",
    "    a = 0\n",
    "    tmp_arr = []\n",
    "    a = sum(i, 0)\n",
    "    for j in i:\n",
    "        tmp_arr.append(float(j)/float(a))\n",
    "    norm_conf.append(tmp_arr)\n",
    "\n",
    "\n",
    "width = len(conf_arr)\n",
    "height = len(conf_arr[0])\n",
    "\n",
    "for x in range(width):\n",
    "    for y in range(height):\n",
    "        ax.annotate(str(conf_arr[x][y]), xy=(y, x), \n",
    "                    horizontalalignment='center',\n",
    "                    verticalalignment='center')\n",
    "\n",
    "\n",
    "\n",
    "# Show confusion matrix in a separate window\n",
    "cb = fig.colorbar(res)\n",
    "plt.matshow(conf_arr,cmap=plt.cm.winter)\n",
    "plt.title('Confusion matrix for Random Forest Classifier',y=1.5)\n",
    "plt.colorbar(cmap=plt.cm.YlGn)\n",
    "plt.ylabel('True label')\n",
    "plt.xlabel('Predicted label')\n",
    "\n",
    "plt.yticks(y_values, activity)\n",
    "plt.xticks(y_values, activity,rotation = 90,)\n",
    "plt.grid(b = False, which='major', axis='both')\n",
    "\n",
    "width = len(conf_arr)\n",
    "height = len(conf_arr[0])\n",
    "\n",
    "for x in range(width):\n",
    "    for y in range(height):\n",
    "        plt.annotate(str(conf_arr[x][y]), xy=(y, x), \n",
    "                    horizontalalignment='center',\n",
    "                    verticalalignment='center')\n",
    "#plt.show()"
   ]
  },
  {
   "cell_type": "code",
   "execution_count": 241,
   "metadata": {
    "collapsed": false
   },
   "outputs": [
    {
     "name": "stdout",
     "output_type": "stream",
     "text": [
      "------------------------------------------------------------\n",
      "\n",
      "\n",
      "A Random Forest Classifier with 150 estimators was 93.01% accurate on the test data.\n",
      "\n",
      "\n",
      "------------------------------------------------------------\n"
     ]
    }
   ],
   "source": [
    "accuracy = accuracy_score(y_test, y_predict_test)\n",
    "print('---'*20)\n",
    "print('\\n')\n",
    "print(\"A Random Forest Classifier with 150 estimators was {}% accurate on the test data.\".format(round(accuracy*100,2)))\n",
    "print('\\n')\n",
    "print('---'*20)"
   ]
  },
  {
   "cell_type": "code",
   "execution_count": null,
   "metadata": {
    "collapsed": true
   },
   "outputs": [],
   "source": []
  }
 ],
 "metadata": {
  "kernelspec": {
   "display_name": "Python 3",
   "language": "python",
   "name": "python3"
  },
  "language_info": {
   "codemirror_mode": {
    "name": "ipython",
    "version": 3
   },
   "file_extension": ".py",
   "mimetype": "text/x-python",
   "name": "python",
   "nbconvert_exporter": "python",
   "pygments_lexer": "ipython3",
   "version": "3.4.3"
  }
 },
 "nbformat": 4,
 "nbformat_minor": 0
}
